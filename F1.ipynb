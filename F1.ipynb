{
 "cells": [
  {
   "cell_type": "code",
   "execution_count": null,
   "metadata": {},
   "outputs": [],
   "source": [
    "#install dependencies\n",
    "%pip install requests pandas \n",
    "!pip3 install torch torchvision torchaudio --index-url https://download.pytorch.org/whl/cu118\n",
    "\n"
   ]
  },
  {
   "cell_type": "code",
   "execution_count": null,
   "metadata": {},
   "outputs": [],
   "source": [
    "#get data \n",
    "%cd F1 dataset \n",
    "circuits = pd.read_csv('circuits.csv')\n",
    "drivers = pd.read_csv('drivers.csv')\n",
    "lap_times = pd.read_csv('lap_times.csv')\n",
    "pit_stops = pd.read_csv('pit_stops.csv') \n",
    "qualifying = pd.read_csv('qualifying.csv')\n",
    "results = pd.read_csv('results.csv')\n",
    "seasons = pd.read_csv('seasons.csv')\n",
    "status = pd.read_csv('status.csv')\n",
    "\n",
    "#Explore the datasets\n",
    "datasets = {\n",
    "    \"Circuits\": circuits,\n",
    "    \"Drivers\": drivers,\n",
    "    \"Lap Times\": lap_times,\n",
    "    \"Pit Stops\": pit_stops,\n",
    "    \"Qualifying\": qualifying,\n",
    "    \"Results\": results,\n",
    "    \"Seasons\": seasons,\n",
    "    \"Status\": status\n",
    "}\n",
    "\n",
    "for name, df in datasets.items():\n",
    "    print(f\"Dataset: {name}\")\n",
    "    print(\"Missing values: \")\n",
    "    print(data.isnull().sum())\n",
    "    print(\"data types: \")\n",
    "    print(df.dtypes)\n",
    "    print(\"\\n\" + \"-\" * 40)"
   ]
  },
  {
   "cell_type": "code",
   "execution_count": null,
   "metadata": {},
   "outputs": [],
   "source": [
    "#Cleaning data \n",
    "# Convert date columns to datetime format\n",
    "drivers['dob'] = pd.to_datetime(drivers['dob'], errors='coerce')\n",
    "\n",
    "# Convert time-related columns to a proper time format if applicable\n",
    "# Example for Lap Times 'time' column (we assume format is 'mm:ss.fff')\n",
    "lap_times['time'] = pd.to_timedelta('00:' + lap_times['time'], errors='coerce')\n",
    "\n",
    "# Convert 'q1', 'q2', 'q3' times in Qualifying dataset to timedelta\n",
    "for col in ['q1', 'q2', 'q3']:\n",
    "    qualifying[col] = pd.to_timedelta('00:' + qualifying[col], errors='coerce')\n",
    "\n",
    "# Convert 'fastestLapTime' in Results dataset to timedelta\n",
    "results['fastestLapTime'] = pd.to_timedelta('00:' + results['fastestLapTime'], errors='coerce')\n",
    "\n",
    "# Convert columns that should be numeric\n",
    "results['milliseconds'] = pd.to_numeric(results['milliseconds'], errors='coerce')\n",
    "results['fastestLapSpeed'] = pd.to_numeric(results['fastestLapSpeed'], errors='coerce')\n",
    "\n",
    "# Remove unnecessary whitespace\n",
    "for df in [circuits, drivers, lap_times, pit_stops, qualifying, results, seasons, status]:\n",
    "    for col in df.select_dtypes(include=['object']).columns:\n",
    "        df[col] = df[col].str.strip()\n",
    "\n",
    "# Check for duplicates in key columns (optional)\n",
    "print(\"Duplicate Rows in Drivers:\", drivers.duplicated(subset=['driverId']).sum())\n",
    "print(\"Duplicate Rows in Results:\", results.duplicated(subset=['resultId']).sum())\n",
    "print(\"Duplicate Rows in Lap Times:\", lap_times.duplicated(subset=['raceId', 'driverId', 'lap']).sum())\n",
    "\n",
    "# Overview of cleaned datasets\n",
    "print(\"Cleaned Drivers:\")\n",
    "print(drivers.head())\n",
    "print(\"Cleaned Lap Times:\")\n",
    "print(lap_times.head())\n",
    "print(\"Cleaned Qualifying:\")\n",
    "print(qualifying.head())\n",
    "print(\"Cleaned Results:\")\n",
    "print(results.head())\n"
   ]
  }
 ],
 "metadata": {
  "kernelspec": {
   "display_name": "Python 3",
   "language": "python",
   "name": "python3"
  },
  "language_info": {
   "codemirror_mode": {
    "name": "ipython",
    "version": 3
   },
   "file_extension": ".py",
   "mimetype": "text/x-python",
   "name": "python",
   "nbconvert_exporter": "python",
   "pygments_lexer": "ipython3",
   "version": "3.12.6"
  }
 },
 "nbformat": 4,
 "nbformat_minor": 2
}
